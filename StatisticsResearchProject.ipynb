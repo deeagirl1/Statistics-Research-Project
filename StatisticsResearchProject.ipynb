{
  "nbformat": 4,
  "nbformat_minor": 0,
  "metadata": {
    "colab": {
      "name": "StatisticsResearchProject.ipynb",
      "provenance": [],
      "collapsed_sections": []
    },
    "kernelspec": {
      "name": "python3",
      "display_name": "Python 3"
    },
    "language_info": {
      "name": "python"
    }
  },
  "cells": [
    {
      "cell_type": "markdown",
      "source": [
        "#**<center>Does less hours of sleep affect the school performance?** \n"
      ],
      "metadata": {
        "id": "mDuPDcyEmsjo"
      }
    },
    {
      "cell_type": "markdown",
      "source": [
        "## **Introduction**\n",
        "Sleep can be one of the most important factors for a student's success and is often one of the most neglected. Many students will sacrifice sleep in order to work, play, or complete school projects. Also, most people think they can function well when they don't get sleep. In this research, we will see if there is a relationship between lack of sleep and student performance in school. "
      ],
      "metadata": {
        "id": "nB2a2WaDKYRb"
      }
    },
    {
      "cell_type": "markdown",
      "source": [
        "<h2><b>Contents<b/></h2>\n",
        "<ul>\n",
        "  <li>Abstract</li>\n",
        "  <li>Which age group is the most affected?</li>\n",
        "  <li>Is there a relation between the level of study and lack of sleep?</li>\n",
        "  <li>Do students who have a job perform worse at school than students who do not?</li>\n",
        "   <li>Hypothesis</li>\n",
        "  <li>Conclusion</li>\n",
        "</ul>"
      ],
      "metadata": {
        "id": "tu59FEn-qXOr"
      }
    },
    {
      "cell_type": "markdown",
      "source": [
        "##**Abstract** \n",
        "The amount of sleep affects the way students perform, feel, think, learn, and remember. Lack of sleep increases the potential for increased daytime sleepiness, which can lead to decreased attention and confusion. Other consequences of sleep deprivation include poor school performance such as lack of interest during lessons and poor exam results. The purpose of this research is to explore the effects of sleep on school performance.This study is a sample study. A total of 25 FHICT students completed an online survey via Google Forms. The data obtained from the survey will be analyzed using a Jupyter notebook, as graphs can be plotted using different libraries to provide better visualization.\n",
        "\n",
        "\n",
        "Below is the survey used for collecting data.\n",
        "\n",
        "[Survey](https://docs.google.com/forms/d/e/1FAIpQLSdhQ2t3qZobpprkfu_U0PmKiNrdo3dwN_UhhTuTIvNo38PhJA/viewform)\n"
      ],
      "metadata": {
        "id": "NSPosormxLEb"
      }
    },
    {
      "cell_type": "code",
      "execution_count": null,
      "metadata": {
        "id": "RyQM4eEqlNZZ",
        "colab": {
          "base_uri": "https://localhost:8080/"
        },
        "outputId": "e1d389d8-e1c6-4452-ea70-36b18d190182"
      },
      "outputs": [
        {
          "output_type": "stream",
          "name": "stderr",
          "text": [
            "/usr/local/lib/python3.7/dist-packages/statsmodels/tools/_testing.py:19: FutureWarning: pandas.util.testing is deprecated. Use the functions in the public API at pandas.testing instead.\n",
            "  import pandas.util.testing as tm\n"
          ]
        }
      ],
      "source": [
        "# imported needed libraries\n",
        "import pandas as pd\n",
        "import numpy as np\n",
        "import math\n",
        "import matplotlib.pyplot as plt\n",
        "import seaborn as sns\n",
        "import sys\n",
        "\n",
        "from scipy.stats import ttest_1samp\n",
        "from scipy.stats import ttest_ind\n",
        "\n",
        "import statsmodels.api as sm\n",
        "\n",
        "# next command ensures that plots appear inside the notebook\n",
        "%matplotlib inline\n",
        "sns.set()  # set Seaborn default\n",
        "\n",
        "# read csv file\n",
        "answers = pd.read_csv('answers.csv')\n"
      ]
    },
    {
      "cell_type": "markdown",
      "source": [
        "## **Which age group is the most affected ?**\n",
        "\n",
        "\n"
      ],
      "metadata": {
        "id": "T_NZrcAJB_Pb"
      }
    },
    {
      "cell_type": "markdown",
      "source": [
        "In order to see which age is the most affected by the lack of sleep, we will generate a graph and discuss the result."
      ],
      "metadata": {
        "id": "w0qkEi6dVilf"
      }
    },
    {
      "cell_type": "code",
      "source": [
        "groupedByAge = answers.groupby(['Age'])\n",
        "meanByAge = groupedByAge['Hours_sleep'].agg([np.mean])\n",
        "df = pd.DataFrame(meanByAge)\n",
        "ax = df.plot(lw=2, colormap='jet', marker='.', markersize=10, title='Affected age group')\n",
        "ax.set_xlabel(\"Age\")\n",
        "ax.set_ylabel(\"Average time of sleep\")"
      ],
      "metadata": {
        "id": "-tMbdk4cCQAc",
        "outputId": "3ff31ad9-cd54-4fe0-a821-cf6b37c6c269",
        "colab": {
          "base_uri": "https://localhost:8080/",
          "height": 319
        }
      },
      "execution_count": null,
      "outputs": [
        {
          "output_type": "execute_result",
          "data": {
            "text/plain": [
              "Text(0, 0.5, 'Average time of sleep')"
            ]
          },
          "metadata": {},
          "execution_count": 2
        },
        {
          "output_type": "display_data",
          "data": {
            "text/plain": [
              "<Figure size 432x288 with 1 Axes>"
            ],
            "image/png": "[encoded data removed]"
          },
          "metadata": {
            "needs_background": "light"
          }
        }
      ]
    },
    {
      "cell_type": "markdown",
      "source": [
        "According to the above-generated graph from the sample, students who are 23 years old seem to sleep the lowest on average, while students who are 21 sleep the highest. Reasons for this result can range from school overload to different sleeping disorders.\n",
        "\n"
      ],
      "metadata": {
        "id": "aN-N1tRGrlTv"
      }
    },
    {
      "cell_type": "markdown",
      "source": [
        "## **Is there a relation between the level of study and lack of sleep?**"
      ],
      "metadata": {
        "id": "0J6gS9_-MEVU"
      }
    },
    {
      "cell_type": "code",
      "source": [
        "groupedBySemester = answers.groupby('Semester')\n",
        "meanBySemester = groupedBySemester['Hours_sleep'].agg([np.mean])\n",
        "\n",
        "df1 = pd.DataFrame(meanBySemester)\n",
        "ax = df1.plot(lw=2, colormap='jet', marker='.', markersize=10, title='Time of sleep per semester')\n",
        "ax.set_xlabel(\"Semester\")\n",
        "ax.set_ylabel(\"Time of sleep\")\n"
      ],
      "metadata": {
        "id": "LzO29gCRMMmx",
        "outputId": "7ca60416-0060-4322-df1a-e96508545290",
        "colab": {
          "base_uri": "https://localhost:8080/",
          "height": 319
        }
      },
      "execution_count": null,
      "outputs": [
        {
          "output_type": "execute_result",
          "data": {
            "text/plain": [
              "Text(0, 0.5, 'Time of sleep')"
            ]
          },
          "metadata": {},
          "execution_count": 3
        },
        {
          "output_type": "display_data",
          "data": {
            "text/plain": [
              "<Figure size 432x288 with 1 Axes>"
            ],
            "image/png": "[encoded data removed]"
          },
          "metadata": {
            "needs_background": "light"
          }
        }
      ]
    },
    {
      "cell_type": "markdown",
      "source": [
        "Initially, we assumed that, as students progress in further semesters, they would sleep less on average. However, according to the collected sample, it seems that students who are semester 2 and semester 3 sleep below the average time, while students in semesters 4 and 5 sleep more.\n",
        "Therefore, the establishment of a relationship between the level of study and the average lack of sleep can be partially assumed, because we cannot conclude if this is the result for the whole population of FHICT students."
      ],
      "metadata": {
        "id": "e4rraeeLz54g"
      }
    },
    {
      "cell_type": "markdown",
      "source": [
        "## **Do students who have a job perform worse at school than students who do not?**"
      ],
      "metadata": {
        "id": "YeY4STpqMwAA"
      }
    },
    {
      "cell_type": "code",
      "source": [
        "groupedByWork = answers.groupby(['Work', 'Grade'])\n",
        "meanByWork = groupedByWork['Hours_sleep'].agg([np.mean])\n",
        "\n",
        "\n",
        "df = pd.DataFrame(meanByWork)\n",
        "ax = df.plot(lw=2, colormap='jet', marker='.', markersize=10, title='Time of sleep per semester')\n",
        "ax.set_xlabel(\"Work\")\n",
        "ax.set_ylabel(\"Time of sleep\")"
      ],
      "metadata": {
        "id": "TR29fWO2M1rt",
        "outputId": "2f25fcff-e157-4cf0-cf03-a23c5551cc9a",
        "colab": {
          "base_uri": "https://localhost:8080/",
          "height": 319
        }
      },
      "execution_count": null,
      "outputs": [
        {
          "output_type": "execute_result",
          "data": {
            "text/plain": [
              "Text(0, 0.5, 'Time of sleep')"
            ]
          },
          "metadata": {},
          "execution_count": 4
        },
        {
          "output_type": "display_data",
          "data": {
            "text/plain": [
              "<Figure size 432x288 with 1 Axes>"
            ],
            "image/png": "[encoded data removed]"
          },
          "metadata": {
            "needs_background": "light"
          }
        }
      ]
    },
    {
      "cell_type": "markdown",
      "source": [
        "According to this graph, it does seem that students who do not work perform worse than the ones who work. Before taking collecting the data, we have assumed that students who work might perform worse than students who don't. Since this is a relatively small sample, cannot fully conclude the assumption for the whole population of students. In future projects, it might be a better idea to have people who do not work or only work to find a more clear result."
      ],
      "metadata": {
        "id": "VQ4DNQJS5eOP"
      }
    },
    {
      "cell_type": "markdown",
      "source": [
        "## **Hypothesis:**\n",
        "$$𝐻o:\\mu_{1} = \\mu_{2}, (Hours \\ of \\ sleep \\ will \\ not \\ affect \\ school \\ performance)$$ \n",
        "\n",
        "$$𝐻a:\\mu_{1} > \\mu_{2}, (Hours \\ of \\ sleep \\ will \\ affect \\ school \\ performance)$$ \n",
        "where \n",
        "\n",
        "\n",
        "$\\mu_1 \\ = $ mean of students who sleep 7 hours or above. \n",
        "\n",
        "$\\mu_2 \\ = $ mean of students who sleep less than 7 hours. \n",
        "\n"
      ],
      "metadata": {
        "id": "W-U8RTDf1LG-"
      }
    },
    {
      "cell_type": "markdown",
      "source": [
        "###Hypothesis Tests\n"
      ],
      "metadata": {
        "id": "QCYsjnkEF3OI"
      }
    },
    {
      "cell_type": "markdown",
      "source": [
        "\n",
        "In order to test our hypothesis, we need to, first filter the data based on the amount of sleep. There are two main groups which we are going to test.\n",
        "\n",
        "Afterward, we need to find the standard deviation and mean for each group of students, depending on the grade.\n",
        "\n"
      ],
      "metadata": {
        "id": "vOoyenwYY2Ul"
      }
    },
    {
      "cell_type": "code",
      "source": [
        "filterByAboveEqual7 = answers[ (answers['Hours_sleep'] >= 7) ]\n",
        "# finding the sample Standard deviation\n",
        "s1 = np.std(filterByAboveEqual7['Grade'], ddof=1)\n",
        "# finding the mean\n",
        "x1_bar = np.mean(filterByAboveEqual7['Grade'].mean())\n",
        "print(f\"Mean of Grade is {filterByAboveEqual7['Grade'].mean()}\")\n",
        "print(f\"Sample Standard deviation of Grade is {np.std(filterByAboveEqual7['Grade'], ddof=1)}\")\n",
        "# Group 1 \n",
        "group1 = filterByAboveEqual7['Grade']\n",
        "# length of group 1\n",
        "n1 = len(group1)\n",
        "\n",
        "df = pd.DataFrame(filterByAboveEqual7)\n",
        "df"
      ],
      "metadata": {
        "id": "pm4tgbtej1oO",
        "outputId": "cc8a6efe-e825-4955-daad-b048d5a40a4e",
        "colab": {
          "base_uri": "https://localhost:8080/",
          "height": 650
        }
      },
      "execution_count": null,
      "outputs": [
        {
          "output_type": "stream",
          "name": "stdout",
          "text": [
            "Mean of Grade is 8.444444444444445\n",
            "Sample Standard deviation of Grade is 1.2935233335271095\n"
          ]
        },
        {
          "output_type": "execute_result",
          "data": {
            "text/plain": [
              "                   Date  Age    Semester  Hours_sleep  Grade Work\n",
              "0   18.02.2022 15:50:00   19  Semester 4          8.0     10   No\n",
              "1   18.02.2022 15:51:10   20  Semester 4          7.0     10   No\n",
              "3   18.02.2022 15:53:16   19  Semester 2          7.0     10   No\n",
              "4   18.02.2022 15:56:52   19  Semester 2          7.0      8  Yes\n",
              "5   18.02.2022 16:00:24   22  Semester 4          7.0     10   No\n",
              "7   18.02.2022 16:04:31   20  Semester 4          7.0      8   No\n",
              "8   18.02.2022 16:08:04   20  Semester 4          7.0      8   No\n",
              "9   18.02.2022 16:09:19   23  Semester 4          7.0     10  Yes\n",
              "10  18.02.2022 16:20:31   23  Semester 4          7.0      6   No\n",
              "11  18.02.2022 16:23:49   19  Semester 4          7.0      8   No\n",
              "12  18.02.2022 16:25:01   22  Semester 2          7.0      8  Yes\n",
              "13  18.02.2022 16:39:51   20  Semester 4          7.0     10   No\n",
              "15  18.02.2022 17:24:29   21  Semester 5         11.0      8   No\n",
              "16  18.02.2022 17:30:06   19  Semester 4          7.0      8   No\n",
              "17  18.02.2022 18:21:34   21  Semester 4          8.0      8   No\n",
              "18  18.02.2022 18:31:08   22  Semester 4          8.0      8   No\n",
              "19  18.02.2022 18:56:17   20  Semester 4         10.0      8  Yes\n",
              "23  20.02.2022 15:21:47   24  Semester 4          7.0      6   No"
            ],
            "text/html": [
              "\n",
              "  <div id=\"df-c06e7e03-2841-4ba8-97ee-cbbb38bef08f\">\n",
              "    <div class=\"colab-df-container\">\n",
              "      <div>\n",
              "<style scoped>\n",
              "    .dataframe tbody tr th:only-of-type {\n",
              "        vertical-align: middle;\n",
              "    }\n",
              "\n",
              "    .dataframe tbody tr th {\n",
              "        vertical-align: top;\n",
              "    }\n",
              "\n",
              "    .dataframe thead th {\n",
              "        text-align: right;\n",
              "    }\n",
              "</style>\n",
              "<table border=\"1\" class=\"dataframe\">\n",
              "  <thead>\n",
              "    <tr style=\"text-align: right;\">\n",
              "      <th></th>\n",
              "      <th>Date</th>\n",
              "      <th>Age</th>\n",
              "      <th>Semester</th>\n",
              "      <th>Hours_sleep</th>\n",
              "      <th>Grade</th>\n",
              "      <th>Work</th>\n",
              "    </tr>\n",
              "  </thead>\n",
              "  <tbody>\n",
              "    <tr>\n",
              "      <th>0</th>\n",
              "      <td>18.02.2022 15:50:00</td>\n",
              "      <td>19</td>\n",
              "      <td>Semester 4</td>\n",
              "      <td>8.0</td>\n",
              "      <td>10</td>\n",
              "      <td>No</td>\n",
              "    </tr>\n",
              "    <tr>\n",
              "      <th>1</th>\n",
              "      <td>18.02.2022 15:51:10</td>\n",
              "      <td>20</td>\n",
              "      <td>Semester 4</td>\n",
              "      <td>7.0</td>\n",
              "      <td>10</td>\n",
              "      <td>No</td>\n",
              "    </tr>\n",
              "    <tr>\n",
              "      <th>3</th>\n",
              "      <td>18.02.2022 15:53:16</td>\n",
              "      <td>19</td>\n",
              "      <td>Semester 2</td>\n",
              "      <td>7.0</td>\n",
              "      <td>10</td>\n",
              "      <td>No</td>\n",
              "    </tr>\n",
              "    <tr>\n",
              "      <th>4</th>\n",
              "      <td>18.02.2022 15:56:52</td>\n",
              "      <td>19</td>\n",
              "      <td>Semester 2</td>\n",
              "      <td>7.0</td>\n",
              "      <td>8</td>\n",
              "      <td>Yes</td>\n",
              "    </tr>\n",
              "    <tr>\n",
              "      <th>5</th>\n",
              "      <td>18.02.2022 16:00:24</td>\n",
              "      <td>22</td>\n",
              "      <td>Semester 4</td>\n",
              "      <td>7.0</td>\n",
              "      <td>10</td>\n",
              "      <td>No</td>\n",
              "    </tr>\n",
              "    <tr>\n",
              "      <th>7</th>\n",
              "      <td>18.02.2022 16:04:31</td>\n",
              "      <td>20</td>\n",
              "      <td>Semester 4</td>\n",
              "      <td>7.0</td>\n",
              "      <td>8</td>\n",
              "      <td>No</td>\n",
              "    </tr>\n",
              "    <tr>\n",
              "      <th>8</th>\n",
              "      <td>18.02.2022 16:08:04</td>\n",
              "      <td>20</td>\n",
              "      <td>Semester 4</td>\n",
              "      <td>7.0</td>\n",
              "      <td>8</td>\n",
              "      <td>No</td>\n",
              "    </tr>\n",
              "    <tr>\n",
              "      <th>9</th>\n",
              "      <td>18.02.2022 16:09:19</td>\n",
              "      <td>23</td>\n",
              "      <td>Semester 4</td>\n",
              "      <td>7.0</td>\n",
              "      <td>10</td>\n",
              "      <td>Yes</td>\n",
              "    </tr>\n",
              "    <tr>\n",
              "      <th>10</th>\n",
              "      <td>18.02.2022 16:20:31</td>\n",
              "      <td>23</td>\n",
              "      <td>Semester 4</td>\n",
              "      <td>7.0</td>\n",
              "      <td>6</td>\n",
              "      <td>No</td>\n",
              "    </tr>\n",
              "    <tr>\n",
              "      <th>11</th>\n",
              "      <td>18.02.2022 16:23:49</td>\n",
              "      <td>19</td>\n",
              "      <td>Semester 4</td>\n",
              "      <td>7.0</td>\n",
              "      <td>8</td>\n",
              "      <td>No</td>\n",
              "    </tr>\n",
              "    <tr>\n",
              "      <th>12</th>\n",
              "      <td>18.02.2022 16:25:01</td>\n",
              "      <td>22</td>\n",
              "      <td>Semester 2</td>\n",
              "      <td>7.0</td>\n",
              "      <td>8</td>\n",
              "      <td>Yes</td>\n",
              "    </tr>\n",
              "    <tr>\n",
              "      <th>13</th>\n",
              "      <td>18.02.2022 16:39:51</td>\n",
              "      <td>20</td>\n",
              "      <td>Semester 4</td>\n",
              "      <td>7.0</td>\n",
              "      <td>10</td>\n",
              "      <td>No</td>\n",
              "    </tr>\n",
              "    <tr>\n",
              "      <th>15</th>\n",
              "      <td>18.02.2022 17:24:29</td>\n",
              "      <td>21</td>\n",
              "      <td>Semester 5</td>\n",
              "      <td>11.0</td>\n",
              "      <td>8</td>\n",
              "      <td>No</td>\n",
              "    </tr>\n",
              "    <tr>\n",
              "      <th>16</th>\n",
              "      <td>18.02.2022 17:30:06</td>\n",
              "      <td>19</td>\n",
              "      <td>Semester 4</td>\n",
              "      <td>7.0</td>\n",
              "      <td>8</td>\n",
              "      <td>No</td>\n",
              "    </tr>\n",
              "    <tr>\n",
              "      <th>17</th>\n",
              "      <td>18.02.2022 18:21:34</td>\n",
              "      <td>21</td>\n",
              "      <td>Semester 4</td>\n",
              "      <td>8.0</td>\n",
              "      <td>8</td>\n",
              "      <td>No</td>\n",
              "    </tr>\n",
              "    <tr>\n",
              "      <th>18</th>\n",
              "      <td>18.02.2022 18:31:08</td>\n",
              "      <td>22</td>\n",
              "      <td>Semester 4</td>\n",
              "      <td>8.0</td>\n",
              "      <td>8</td>\n",
              "      <td>No</td>\n",
              "    </tr>\n",
              "    <tr>\n",
              "      <th>19</th>\n",
              "      <td>18.02.2022 18:56:17</td>\n",
              "      <td>20</td>\n",
              "      <td>Semester 4</td>\n",
              "      <td>10.0</td>\n",
              "      <td>8</td>\n",
              "      <td>Yes</td>\n",
              "    </tr>\n",
              "    <tr>\n",
              "      <th>23</th>\n",
              "      <td>20.02.2022 15:21:47</td>\n",
              "      <td>24</td>\n",
              "      <td>Semester 4</td>\n",
              "      <td>7.0</td>\n",
              "      <td>6</td>\n",
              "      <td>No</td>\n",
              "    </tr>\n",
              "  </tbody>\n",
              "</table>\n",
              "</div>\n",
              "      <button class=\"colab-df-convert\" onclick=\"convertToInteractive('df-c06e7e03-2841-4ba8-97ee-cbbb38bef08f')\"\n",
              "              title=\"Convert this dataframe to an interactive table.\"\n",
              "              style=\"display:none;\">\n",
              "        \n",
              "  <svg xmlns=\"http://www.w3.org/2000/svg\" height=\"24px\"viewBox=\"0 0 24 24\"\n",
              "       width=\"24px\">\n",
              "    <path d=\"M0 0h24v24H0V0z\" fill=\"none\"/>\n",
              "    <path d=\"M18.56 5.44l.94 2.06.94-2.06 2.06-.94-2.06-.94-.94-2.06-.94 2.06-2.06.94zm-11 1L8.5 8.5l.94-2.06 2.06-.94-2.06-.94L8.5 2.5l-.94 2.06-2.06.94zm10 10l.94 2.06.94-2.06 2.06-.94-2.06-.94-.94-2.06-.94 2.06-2.06.94z\"/><path d=\"M17.41 7.96l-1.37-1.37c-.4-.4-.92-.59-1.43-.59-.52 0-1.04.2-1.43.59L10.3 9.45l-7.72 7.72c-.78.78-.78 2.05 0 2.83L4 21.41c.39.39.9.59 1.41.59.51 0 1.02-.2 1.41-.59l7.78-7.78 2.81-2.81c.8-.78.8-2.07 0-2.86zM5.41 20L4 18.59l7.72-7.72 1.47 1.35L5.41 20z\"/>\n",
              "  </svg>\n",
              "      </button>\n",
              "      \n",
              "  <style>\n",
              "    .colab-df-container {\n",
              "      display:flex;\n",
              "      flex-wrap:wrap;\n",
              "      gap: 12px;\n",
              "    }\n",
              "\n",
              "    .colab-df-convert {\n",
              "      background-color: #E8F0FE;\n",
              "      border: none;\n",
              "      border-radius: 50%;\n",
              "      cursor: pointer;\n",
              "      display: none;\n",
              "      fill: #1967D2;\n",
              "      height: 32px;\n",
              "      padding: 0 0 0 0;\n",
              "      width: 32px;\n",
              "    }\n",
              "\n",
              "    .colab-df-convert:hover {\n",
              "      background-color: #E2EBFA;\n",
              "      box-shadow: 0px 1px 2px rgba(60, 64, 67, 0.3), 0px 1px 3px 1px rgba(60, 64, 67, 0.15);\n",
              "      fill: #174EA6;\n",
              "    }\n",
              "\n",
              "    [theme=dark] .colab-df-convert {\n",
              "      background-color: #3B4455;\n",
              "      fill: #D2E3FC;\n",
              "    }\n",
              "\n",
              "    [theme=dark] .colab-df-convert:hover {\n",
              "      background-color: #434B5C;\n",
              "      box-shadow: 0px 1px 3px 1px rgba(0, 0, 0, 0.15);\n",
              "      filter: drop-shadow(0px 1px 2px rgba(0, 0, 0, 0.3));\n",
              "      fill: #FFFFFF;\n",
              "    }\n",
              "  </style>\n",
              "\n",
              "      <script>\n",
              "        const buttonEl =\n",
              "          document.querySelector('#df-c06e7e03-2841-4ba8-97ee-cbbb38bef08f button.colab-df-convert');\n",
              "        buttonEl.style.display =\n",
              "          google.colab.kernel.accessAllowed ? 'block' : 'none';\n",
              "\n",
              "        async function convertToInteractive(key) {\n",
              "          const element = document.querySelector('#df-c06e7e03-2841-4ba8-97ee-cbbb38bef08f');\n",
              "          const dataTable =\n",
              "            await google.colab.kernel.invokeFunction('convertToInteractive',\n",
              "                                                     [key], {});\n",
              "          if (!dataTable) return;\n",
              "\n",
              "          const docLinkHtml = 'Like what you see? Visit the ' +\n",
              "            '<a target=\"_blank\" href=https://colab.research.google.com/notebooks/data_table.ipynb>data table notebook</a>'\n",
              "            + ' to learn more about interactive tables.';\n",
              "          element.innerHTML = '';\n",
              "          dataTable['output_type'] = 'display_data';\n",
              "          await google.colab.output.renderOutput(dataTable, element);\n",
              "          const docLink = document.createElement('div');\n",
              "          docLink.innerHTML = docLinkHtml;\n",
              "          element.appendChild(docLink);\n",
              "        }\n",
              "      </script>\n",
              "    </div>\n",
              "  </div>\n",
              "  "
            ]
          },
          "metadata": {},
          "execution_count": 5
        }
      ]
    },
    {
      "cell_type": "code",
      "source": [
        "filterByBelow7 = answers[ (answers['Hours_sleep'] < 7) ]\n",
        "# finding the sample Standard deviation\n",
        "s2 = np.std(filterByBelow7['Grade'], ddof=1)\n",
        "# finding the mean\n",
        "x2_bar = np.mean(filterByBelow7['Grade'].mean())\n",
        "# print(\"\\n\",filterByBelow7)\n",
        "print(f\"The mean of Grade is {filterByBelow7['Grade'].mean()}\")\n",
        "print(f\"The Sample Standard deviation of Grade is {np.std(filterByBelow7['Grade'], ddof=1)}\")\n",
        "# Group 2 \n",
        "group2 = filterByBelow7['Grade']\n",
        "# length of group 2\n",
        "n2 = len(group1)\n",
        "df = pd.DataFrame(filterByBelow7)\n",
        "df"
      ],
      "metadata": {
        "colab": {
          "base_uri": "https://localhost:8080/",
          "height": 274
        },
        "id": "yAnlv_5sbEpp",
        "outputId": "a7adbb16-2ad6-45fc-e030-ddc803533923"
      },
      "execution_count": null,
      "outputs": [
        {
          "output_type": "stream",
          "name": "stdout",
          "text": [
            "The mean of Grade is 6.333333333333333\n",
            "The Sample Standard deviation of Grade is 1.96638416050035\n"
          ]
        },
        {
          "output_type": "execute_result",
          "data": {
            "text/plain": [
              "                   Date  Age    Semester  Hours_sleep  Grade Work\n",
              "2   18.02.2022 15:51:44   20  Semester 3          5.0      4   No\n",
              "6   18.02.2022 16:02:38   21  Semester 4          6.0      8   No\n",
              "14  18.02.2022 17:18:10   21  Semester 2          6.0      4  Yes\n",
              "20  18.02.2022 19:19:42   23  Semester 4          6.0      8   No\n",
              "21  19.02.2022 01:18:37   19  Semester 4          5.0      8   No\n",
              "22  19.02.2022 05:58:00   19  Semester 4          6.3      6  Yes"
            ],
            "text/html": [
              "\n",
              "  <div id=\"df-e4048bfc-58d3-4ad7-bfd7-69e5ac115858\">\n",
              "    <div class=\"colab-df-container\">\n",
              "      <div>\n",
              "<style scoped>\n",
              "    .dataframe tbody tr th:only-of-type {\n",
              "        vertical-align: middle;\n",
              "    }\n",
              "\n",
              "    .dataframe tbody tr th {\n",
              "        vertical-align: top;\n",
              "    }\n",
              "\n",
              "    .dataframe thead th {\n",
              "        text-align: right;\n",
              "    }\n",
              "</style>\n",
              "<table border=\"1\" class=\"dataframe\">\n",
              "  <thead>\n",
              "    <tr style=\"text-align: right;\">\n",
              "      <th></th>\n",
              "      <th>Date</th>\n",
              "      <th>Age</th>\n",
              "      <th>Semester</th>\n",
              "      <th>Hours_sleep</th>\n",
              "      <th>Grade</th>\n",
              "      <th>Work</th>\n",
              "    </tr>\n",
              "  </thead>\n",
              "  <tbody>\n",
              "    <tr>\n",
              "      <th>2</th>\n",
              "      <td>18.02.2022 15:51:44</td>\n",
              "      <td>20</td>\n",
              "      <td>Semester 3</td>\n",
              "      <td>5.0</td>\n",
              "      <td>4</td>\n",
              "      <td>No</td>\n",
              "    </tr>\n",
              "    <tr>\n",
              "      <th>6</th>\n",
              "      <td>18.02.2022 16:02:38</td>\n",
              "      <td>21</td>\n",
              "      <td>Semester 4</td>\n",
              "      <td>6.0</td>\n",
              "      <td>8</td>\n",
              "      <td>No</td>\n",
              "    </tr>\n",
              "    <tr>\n",
              "      <th>14</th>\n",
              "      <td>18.02.2022 17:18:10</td>\n",
              "      <td>21</td>\n",
              "      <td>Semester 2</td>\n",
              "      <td>6.0</td>\n",
              "      <td>4</td>\n",
              "      <td>Yes</td>\n",
              "    </tr>\n",
              "    <tr>\n",
              "      <th>20</th>\n",
              "      <td>18.02.2022 19:19:42</td>\n",
              "      <td>23</td>\n",
              "      <td>Semester 4</td>\n",
              "      <td>6.0</td>\n",
              "      <td>8</td>\n",
              "      <td>No</td>\n",
              "    </tr>\n",
              "    <tr>\n",
              "      <th>21</th>\n",
              "      <td>19.02.2022 01:18:37</td>\n",
              "      <td>19</td>\n",
              "      <td>Semester 4</td>\n",
              "      <td>5.0</td>\n",
              "      <td>8</td>\n",
              "      <td>No</td>\n",
              "    </tr>\n",
              "    <tr>\n",
              "      <th>22</th>\n",
              "      <td>19.02.2022 05:58:00</td>\n",
              "      <td>19</td>\n",
              "      <td>Semester 4</td>\n",
              "      <td>6.3</td>\n",
              "      <td>6</td>\n",
              "      <td>Yes</td>\n",
              "    </tr>\n",
              "  </tbody>\n",
              "</table>\n",
              "</div>\n",
              "      <button class=\"colab-df-convert\" onclick=\"convertToInteractive('df-e4048bfc-58d3-4ad7-bfd7-69e5ac115858')\"\n",
              "              title=\"Convert this dataframe to an interactive table.\"\n",
              "              style=\"display:none;\">\n",
              "        \n",
              "  <svg xmlns=\"http://www.w3.org/2000/svg\" height=\"24px\"viewBox=\"0 0 24 24\"\n",
              "       width=\"24px\">\n",
              "    <path d=\"M0 0h24v24H0V0z\" fill=\"none\"/>\n",
              "    <path d=\"M18.56 5.44l.94 2.06.94-2.06 2.06-.94-2.06-.94-.94-2.06-.94 2.06-2.06.94zm-11 1L8.5 8.5l.94-2.06 2.06-.94-2.06-.94L8.5 2.5l-.94 2.06-2.06.94zm10 10l.94 2.06.94-2.06 2.06-.94-2.06-.94-.94-2.06-.94 2.06-2.06.94z\"/><path d=\"M17.41 7.96l-1.37-1.37c-.4-.4-.92-.59-1.43-.59-.52 0-1.04.2-1.43.59L10.3 9.45l-7.72 7.72c-.78.78-.78 2.05 0 2.83L4 21.41c.39.39.9.59 1.41.59.51 0 1.02-.2 1.41-.59l7.78-7.78 2.81-2.81c.8-.78.8-2.07 0-2.86zM5.41 20L4 18.59l7.72-7.72 1.47 1.35L5.41 20z\"/>\n",
              "  </svg>\n",
              "      </button>\n",
              "      \n",
              "  <style>\n",
              "    .colab-df-container {\n",
              "      display:flex;\n",
              "      flex-wrap:wrap;\n",
              "      gap: 12px;\n",
              "    }\n",
              "\n",
              "    .colab-df-convert {\n",
              "      background-color: #E8F0FE;\n",
              "      border: none;\n",
              "      border-radius: 50%;\n",
              "      cursor: pointer;\n",
              "      display: none;\n",
              "      fill: #1967D2;\n",
              "      height: 32px;\n",
              "      padding: 0 0 0 0;\n",
              "      width: 32px;\n",
              "    }\n",
              "\n",
              "    .colab-df-convert:hover {\n",
              "      background-color: #E2EBFA;\n",
              "      box-shadow: 0px 1px 2px rgba(60, 64, 67, 0.3), 0px 1px 3px 1px rgba(60, 64, 67, 0.15);\n",
              "      fill: #174EA6;\n",
              "    }\n",
              "\n",
              "    [theme=dark] .colab-df-convert {\n",
              "      background-color: #3B4455;\n",
              "      fill: #D2E3FC;\n",
              "    }\n",
              "\n",
              "    [theme=dark] .colab-df-convert:hover {\n",
              "      background-color: #434B5C;\n",
              "      box-shadow: 0px 1px 3px 1px rgba(0, 0, 0, 0.15);\n",
              "      filter: drop-shadow(0px 1px 2px rgba(0, 0, 0, 0.3));\n",
              "      fill: #FFFFFF;\n",
              "    }\n",
              "  </style>\n",
              "\n",
              "      <script>\n",
              "        const buttonEl =\n",
              "          document.querySelector('#df-e4048bfc-58d3-4ad7-bfd7-69e5ac115858 button.colab-df-convert');\n",
              "        buttonEl.style.display =\n",
              "          google.colab.kernel.accessAllowed ? 'block' : 'none';\n",
              "\n",
              "        async function convertToInteractive(key) {\n",
              "          const element = document.querySelector('#df-e4048bfc-58d3-4ad7-bfd7-69e5ac115858');\n",
              "          const dataTable =\n",
              "            await google.colab.kernel.invokeFunction('convertToInteractive',\n",
              "                                                     [key], {});\n",
              "          if (!dataTable) return;\n",
              "\n",
              "          const docLinkHtml = 'Like what you see? Visit the ' +\n",
              "            '<a target=\"_blank\" href=https://colab.research.google.com/notebooks/data_table.ipynb>data table notebook</a>'\n",
              "            + ' to learn more about interactive tables.';\n",
              "          element.innerHTML = '';\n",
              "          dataTable['output_type'] = 'display_data';\n",
              "          await google.colab.output.renderOutput(dataTable, element);\n",
              "          const docLink = document.createElement('div');\n",
              "          docLink.innerHTML = docLinkHtml;\n",
              "          element.appendChild(docLink);\n",
              "        }\n",
              "      </script>\n",
              "    </div>\n",
              "  </div>\n",
              "  "
            ]
          },
          "metadata": {},
          "execution_count": 6
        }
      ]
    },
    {
      "cell_type": "markdown",
      "source": [
        "After gathering everything we need for testing our hypothesis, we use two ways to test. The first way is using F-Statistic and the second way is using T-Statistic."
      ],
      "metadata": {
        "id": "gKFMkxOt1Uvz"
      }
    },
    {
      "cell_type": "markdown",
      "source": [
        "### **F-Statistic**"
      ],
      "metadata": {
        "id": "_iIYO_9NLhGB"
      }
    },
    {
      "cell_type": "code",
      "source": [
        "# the Significance test\n",
        "alpha = 0.05\n",
        "import scipy.stats as stats\n",
        "\n",
        "if s1 > s2:\n",
        "    F_score = s1**2 / s2**2\n",
        "    critical_value = stats.f.ppf(1-alpha, n1-1, n2-1)\n",
        "else:\n",
        "    F_score = s2**2 / s1**2\n",
        "    critical_value = stats.f.ppf(1-alpha, n2-1, n1-1)\n",
        "\n",
        "\n",
        "print(\"F-score is:\", F_score, \" and critical value is:\", critical_value)\n",
        "conclusion = \"Null hypothesis is accepted.\"\n",
        "t_test_type = \"pooled_variance t test\"\n",
        "if F_score > critical_value:\n",
        "    conclusion = \"Null Hypothesis is rejected.\"\n",
        "    t_test_type = \"separate-variances t test\"\n",
        "print(conclusion)"
      ],
      "metadata": {
        "id": "8oDqtAOEck2j",
        "outputId": "00707584-8ec7-4d27-e75b-92017e4f937e",
        "colab": {
          "base_uri": "https://localhost:8080/"
        }
      },
      "execution_count": null,
      "outputs": [
        {
          "output_type": "stream",
          "name": "stdout",
          "text": [
            "F-score is: 2.3109374999999988  and critical value is: 2.2718928890253784\n",
            "Null Hypothesis is rejected.\n"
          ]
        }
      ]
    },
    {
      "cell_type": "markdown",
      "source": [
        "F-Statistic tells us if the standard deviations from two sets of data are statistically different. \n",
        "F-Statistic is calculated using this formula: \n",
        "\\begin{equation*}\n",
        "F =  \\frac{(S_1)^2}{(S_2)^2}\n",
        "\\end{equation*}\n",
        "\n",
        "1.   In this formula we divide the standard deviation of the one sample by the standard deviation of the other sample. \n",
        "2.   We must put the higher standard decviation as the numerator and the lowest standard deviation as denominator. \n",
        "\n"
      ],
      "metadata": {
        "id": "Ds8elxmALoa-"
      }
    },
    {
      "cell_type": "markdown",
      "source": [
        "### T-Statistic "
      ],
      "metadata": {
        "id": "uvKkUhQ5NKbL"
      }
    },
    {
      "cell_type": "code",
      "source": [
        "t_value,p_value=stats.ttest_ind(group1, group2, equal_var=True)\n",
        "\n",
        "print('Test statistic is %f'%float(\"{:.6f}\".format(t_value)))\n",
        "\n",
        "print('p-value is %f'%p_value)\n",
        "\n",
        "\n",
        "if p_value >= alpha:\n",
        "    print(\"Null hypothesis is accepted.\")\n",
        "else:\n",
        "     print(\"Null Hypothesis is rejected.\")"
      ],
      "metadata": {
        "colab": {
          "base_uri": "https://localhost:8080/"
        },
        "id": "0NhF7slZj_ZV",
        "outputId": "7c772e0c-50a1-43bb-c0f9-26ae9d95af4b"
      },
      "execution_count": null,
      "outputs": [
        {
          "output_type": "stream",
          "name": "stdout",
          "text": [
            "Test statistic is 3.038895\n",
            "p-value is 0.006025\n",
            "Null Hypothesis is rejected.\n"
          ]
        }
      ]
    },
    {
      "cell_type": "markdown",
      "source": [
        "T-Statistic is used to test if there is a significant difference between the means of two groups. \n",
        "T-Statistic is calculated using this formula: \n",
        "\\begin{equation*}\n",
        "t =  \\frac{\\mu_1 - \\mu_2}{\\sqrt{\\frac 1 n_1 + \\frac 1 n_2}}\n",
        "\\end{equation*}\n",
        "\n",
        "\n"
      ],
      "metadata": {
        "id": "kvCT_8CzNZgn"
      }
    },
    {
      "cell_type": "markdown",
      "source": [
        "###The difference between T-Statistics and F-Statistics "
      ],
      "metadata": {
        "id": "djCNPA5acKXj"
      }
    },
    {
      "cell_type": "markdown",
      "source": [
        "Both tests give the same result, the only difference being that F-statistics checks whether the variability between two or more samples, is actually identical. Therefore, we need to use the standard deviation for calculating it.\n",
        "\n",
        "On the other hand, the T-Statistics can work with one or more samples and we need to find the mean and to know the sample size."
      ],
      "metadata": {
        "id": "3PlQRxc7cfIu"
      }
    },
    {
      "cell_type": "markdown",
      "source": [
        "##**Conclusion**\n",
        "Finally, after testing our null and alternative hypothesis, we found that there is a correlation between the amount of sleep and school performance. We have used two ways in order to test our hypothesis, by using F-Statistic and T-Statistic. Both tests have the same result, namely the \"Reject null hypothesis\", therefore, we can conclude that our calculations are correct and, indeed, the lack of sleep has an impact on school performance. \n"
      ],
      "metadata": {
        "id": "kvYKjPliW9Xv"
      }
    }
  ]
}